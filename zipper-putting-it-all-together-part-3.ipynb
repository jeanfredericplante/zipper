{
 "cells": [
  {
   "cell_type": "markdown",
   "metadata": {},
   "source": [
    "**Zipper: convnet and lstm**\n",
    "---\n",
    "Companion notebooks from the article https://medium.com/p/83eb78f9963e/edit.\n",
    "\n",
    "There are 3 parts:\n",
    "- [part1](https://www.kaggle.com/blocks/zipper-putting-it-all-together-part-1): data exploration and preprocessing\n",
    "- [part2](https://www.kaggle.com/blocks/zipper-putting-it-all-together-part-2): classification with gradient boosting (and autotuning)\n",
    "- [part3](https://www.kaggle.com/blocks/zipper-putting-it-all-together-part-3): convnet and lstm\n",
    "\n",
    "You can also find the capture app for iOS at https://github.com/jeanfredericplante/lowflyer\n",
    "\n",
    "---"
   ]
  },
  {
   "cell_type": "code",
   "execution_count": 1,
   "metadata": {
    "_cell_guid": "b1076dfc-b9ad-4769-8c92-a6c4dae69d19",
    "_uuid": "8f2839f25d086af736a60e9eeb907d3b93b6e0e5"
   },
   "outputs": [],
   "source": [
    "import numpy as np\n",
    "import pandas as pd\n",
    "import fastai\n",
    "import math\n",
    "import datetime\n",
    "import matplotlib.pyplot as plt\n",
    "import os\n",
    "import lightgbm as lgb\n",
    "from tqdm import tqdm, tqdm_notebook\n",
    "import plotly.graph_objs as go"
   ]
  },
  {
   "cell_type": "code",
   "execution_count": 2,
   "metadata": {},
   "outputs": [],
   "source": [
    "df_all = pd.read_pickle('../input/df_all_norm.pkl') \n",
    "size_per_batch = pd.read_pickle('../input/size_per_batch.pkl')"
   ]
  },
  {
   "cell_type": "code",
   "execution_count": 3,
   "metadata": {},
   "outputs": [
    {
     "data": {
      "text/html": [
       "<div>\n",
       "<style scoped>\n",
       "    .dataframe tbody tr th:only-of-type {\n",
       "        vertical-align: middle;\n",
       "    }\n",
       "\n",
       "    .dataframe tbody tr th {\n",
       "        vertical-align: top;\n",
       "    }\n",
       "\n",
       "    .dataframe thead th {\n",
       "        text-align: right;\n",
       "    }\n",
       "</style>\n",
       "<table border=\"1\" class=\"dataframe\">\n",
       "  <thead>\n",
       "    <tr style=\"text-align: right;\">\n",
       "      <th></th>\n",
       "      <th>length</th>\n",
       "      <th>open</th>\n",
       "      <th>walking</th>\n",
       "    </tr>\n",
       "    <tr>\n",
       "      <th>batch</th>\n",
       "      <th></th>\n",
       "      <th></th>\n",
       "      <th></th>\n",
       "    </tr>\n",
       "  </thead>\n",
       "  <tbody>\n",
       "    <tr>\n",
       "      <th>0</th>\n",
       "      <td>1160</td>\n",
       "      <td>1</td>\n",
       "      <td>1</td>\n",
       "    </tr>\n",
       "    <tr>\n",
       "      <th>1</th>\n",
       "      <td>3002</td>\n",
       "      <td>1</td>\n",
       "      <td>1</td>\n",
       "    </tr>\n",
       "    <tr>\n",
       "      <th>2</th>\n",
       "      <td>1743</td>\n",
       "      <td>1</td>\n",
       "      <td>1</td>\n",
       "    </tr>\n",
       "  </tbody>\n",
       "</table>\n",
       "</div>"
      ],
      "text/plain": [
       "       length  open  walking\n",
       "batch                       \n",
       "0        1160     1        1\n",
       "1        3002     1        1\n",
       "2        1743     1        1"
      ]
     },
     "execution_count": 3,
     "metadata": {},
     "output_type": "execute_result"
    }
   ],
   "source": [
    "size_per_batch.head(3)"
   ]
  },
  {
   "cell_type": "markdown",
   "metadata": {},
   "source": [
    "## Utility functions"
   ]
  },
  {
   "cell_type": "code",
   "execution_count": 4,
   "metadata": {},
   "outputs": [],
   "source": [
    "def select_train_test_batches(size_per_batch, label = \"walking\",percent = 0.2):\n",
    "    target = label # \"is_open\"\n",
    "    # target = \"open\"\n",
    "    percent_test = percent\n",
    "    size_per_batch= size_per_batch.reset_index().set_index([target,'batch']).sort_index()\n",
    "    target_per_class = size_per_batch.groupby(target).sum()*percent_test\n",
    "    test_batches = []\n",
    "    target_length = 0\n",
    "    while target_length < target_per_class.iloc[0].length:\n",
    "        sample_batch = size_per_batch.xs(0).sample()\n",
    "        target_length += sample_batch.length.values[0]\n",
    "        test_batches.append(sample_batch.index.values[0])\n",
    "    target_length = 0\n",
    "    while target_length < target_per_class.iloc[1].length:\n",
    "        sample_batch = size_per_batch.xs(1).sample()\n",
    "        target_length += sample_batch.length.values[0]\n",
    "        test_batches.append(sample_batch.index.values[0])\n",
    "    train_batches = size_per_batch.index.levels[1].values\n",
    "    train_batches = set(train_batches) - set(test_batches)\n",
    "    print(f\"train batch:{train_batches}, test batches {test_batches}\")\n",
    "    return train_batches,test_batches\n",
    "\n",
    "### A bit of feature engineering\n",
    "def create_training_with_fft(window_size = 128, step_size = 10, batch_list=[],\n",
    "                             features=[\"aa\",\"ax\",\"ay\",\"az\"], fft_only=False, \n",
    "                             remove_0_freq=True, add_fft=True, get_batchlist = False,\n",
    "                             return_neg_freq = True, flatten = False):\n",
    "    x = [] ; y = [] ; blist = []\n",
    "    if not batch_list: batch_list = df_all.batch.unique()\n",
    "    for batch in batch_list:\n",
    "        dftmp = df_all[df_all.batch==batch]\n",
    "        for i in range(0, dftmp.ma.size-window_size,step_size):\n",
    "            dfsub = dftmp.iloc[i:i+window_size]\n",
    "            feat_val=dfsub[features].values\n",
    "            if remove_0_freq:\n",
    "                feat_val_fft = (dfsub - dfsub.mean())[features].values\n",
    "            else:\n",
    "                feat_val_fft = feat_val\n",
    "            n = len(feat_val_fft)\n",
    "            fft_feat_val = abs(np.fft.fft(feat_val_fft.T)/n).T    \n",
    "            if not return_neg_freq:\n",
    "                fft_feat_val = fft_feat_val[np.arange(n/2,dtype=int)] \n",
    "            if add_fft:\n",
    "                if fft_only:\n",
    "                    if flatten: x.append(fft_feat_val.T.flatten())\n",
    "                    else: x.append(fft_feat_val.T)\n",
    "                else:\n",
    "                    if flatten:x.append(np.hstack((feat_val.T.flatten(), fft_feat_val.T.flatten())))\n",
    "                    else: x.append(np.vstack((feat_val.T, fft_feat_val.T)))\n",
    "            else:\n",
    "                if flatten: x.append(feat_val.T.flatten())\n",
    "                else: x.append(feat_val.T)\n",
    "            y.append(dfsub[target].values[0])\n",
    "            blist.append(batch)\n",
    "    if get_batchlist: return np.array(x),np.array(y),blist\n",
    "    else: return np.array(x),np.array(y)\n",
    "\n",
    "from sklearn.metrics import roc_curve, recall_score, precision_score\n",
    "def get_precision_recall(X,y,m):\n",
    "    return  precision_score(y,m.predict(X)),recall_score(y,m.predict(X))\n",
    "\n",
    "import seaborn as sns\n",
    "from sklearn.metrics import confusion_matrix,precision_score, recall_score\n",
    "# recall for zipper open is maximize rate of detection the flyer is open (minimize false negatives).\n",
    "# recall: real->detected max, precision: detected -> real max (minimize false positives)\n",
    "\n",
    "def plot_confusion_matrix(Y_true, Y_pred, label=\"walking\",ax=[]):\n",
    "    cm = confusion_matrix( Y_true, Y_pred)\n",
    "    prec= precision_score(Y_true, Y_pred)\n",
    "    rec = recall_score(Y_true,Y_pred)\n",
    "    if label is \"walking\":\n",
    "        labels = [\"still\",\"walking\"]\n",
    "    else:\n",
    "        labels = [\"close\",\"open\"]\n",
    "    cm_df = pd.DataFrame(cm,index = labels, columns = labels)\n",
    "    sns.heatmap(cm_df, annot=True,ax=ax)\n",
    "    ax.set_title(f'Confusion Matrix, prec {prec:.2f} - recall {rec:.2f}')\n",
    "    ax.set_ylabel('True label')\n",
    "    ax.set_xlabel('Predicted label')"
   ]
  },
  {
   "cell_type": "markdown",
   "metadata": {},
   "source": [
    "# Convolutional network"
   ]
  },
  {
   "cell_type": "code",
   "execution_count": 5,
   "metadata": {},
   "outputs": [],
   "source": [
    "import torch\n",
    "import torch.nn as nn\n",
    "import torch.nn.functional as F\n",
    "import torch.utils.data as tdatautils\n",
    "\n",
    "from fastai.basic_data import DataBunch, DatasetType\n",
    "from fastai.basic_train import Learner\n",
    "from fastai.train import *\n",
    "from fastai import *\n",
    "\n",
    "import pdb"
   ]
  },
  {
   "cell_type": "code",
   "execution_count": 6,
   "metadata": {},
   "outputs": [],
   "source": [
    "class ZipNet(nn.Module):\n",
    "    ## input channel 128x1\n",
    "    def __init__(self, ks = 5, ws = 128, feature_size = 6):\n",
    "        # ws: Window size, which is the time series input size\n",
    "        # feature_size: 6 (number of channels)\n",
    "        # features already ordered by by features first and fft last\n",
    "        # ks: kernel_size\n",
    "        # kernel_size: conv size\n",
    "        # 128 -> 128 - ks + 1 = 124*6 -> \n",
    "        \n",
    "        \n",
    "        super(ZipNet,self).__init__()\n",
    "        num_conv = 3; \n",
    "        num_layer_conv = 72 #36\n",
    "        num_fc = 30; \n",
    "        self.flat_conv_size = ws\n",
    "        self.feature_size = feature_size\n",
    "        for i in range(num_conv):\n",
    "            self.flat_conv_size = (self.flat_conv_size - ks + 1)/2\n",
    "        self.flat_conv_size = int(self.flat_conv_size)*num_layer_conv\n",
    "        self.flat_fft_size = ws * (feature_size // 2) \n",
    "        self.conv1 = nn.Conv1d(feature_size // 2,num_layer_conv,ks)\n",
    "        self.bn1 = nn.BatchNorm1d(num_layer_conv)\n",
    "        self.conv2 = nn.Conv1d(num_layer_conv,num_layer_conv,ks)\n",
    "        self.bn2 = nn.BatchNorm1d(num_layer_conv)\n",
    "        self.conv3 = nn.Conv1d(num_layer_conv,num_layer_conv,ks)\n",
    "        self.fc1 = nn.Linear(self.flat_conv_size + self.flat_fft_size,num_fc)\n",
    "        self.bn3 = nn.BatchNorm1d(num_fc)\n",
    "        self.fc2 = nn.Linear(num_fc,1)\n",
    "\n",
    "\n",
    "    def forward(self, x):\n",
    "        # input is batch, [feats,fft_feats], samples\n",
    "        idx_feat = np.arange(self.feature_size // 2)\n",
    "        idx_fft = self.feature_size // 2 + np.arange(self.feature_size // 2)\n",
    "        x_feat  = x[:,idx_feat,:]; x_fft = x[:,idx_fft,:]\n",
    "        # Conv on features\n",
    "        xf = self.conv1(x_feat) # 128 -> 124\n",
    "        xf = F.max_pool1d(F.relu(xf), 2) # 124 -> 62\n",
    "        xf = self.conv2(xf) # 62 -> 58\n",
    "        xf = F.max_pool1d(F.relu(xf), 2) # 58 -> 29\n",
    "        xf = self.conv3(xf) # 29 -> 25\n",
    "        xf = F.max_pool1d(F.relu(xf), 2) # 58 -> 29\n",
    "\n",
    "        # Flatten and fully connected\n",
    "        xf = xf.view(-1,self.flat_conv_size)\n",
    "        xfft= x_fft.view(-1, self.flat_fft_size)\n",
    "        x = torch.cat((xf, xfft), 1)\n",
    "        x = F.relu(self.fc1(x))\n",
    "        x = torch.sigmoid(self.fc2(x).squeeze())\n",
    "        return x"
   ]
  },
  {
   "cell_type": "markdown",
   "metadata": {},
   "source": [
    "### data processing"
   ]
  },
  {
   "cell_type": "code",
   "execution_count": 7,
   "metadata": {},
   "outputs": [
    {
     "name": "stdout",
     "output_type": "stream",
     "text": [
      "train batch:{0, 1, 2, 5, 6, 9, 12, 18, 19, 20, 21, 22, 23, 27, 29, 30, 33, 34, 35, 36, 39, 40, 41, 43, 44, 46, 47, 50, 51, 53, 54, 55, 56}, test batches [13, 49, 45, 38, 10, 11, 11, 17]\n"
     ]
    }
   ],
   "source": [
    "target = \"open\"\n",
    "train_batches,test_batches = select_train_test_batches(size_per_batch[size_per_batch.walking==1],label = target, percent = 0.2)"
   ]
  },
  {
   "cell_type": "code",
   "execution_count": 8,
   "metadata": {},
   "outputs": [],
   "source": [
    "# Reusing same batches as for LGBM to compare performance\n",
    "train_batches = {0, 1, 2, 5, 6, 9, 11, 12, 13, 17, 18, 19, 20, 21, 23, 27, 30, 33, 35, 39, 41, 43, 44, 45, 46, 47, 49, 50, 51, 53, 54, 55, 56}\n",
    "test_batches = [38, 34, 36, 22, 29, 40, 10]"
   ]
  },
  {
   "cell_type": "code",
   "execution_count": 9,
   "metadata": {},
   "outputs": [],
   "source": [
    "features = [\"mx\",\"my\",\"mz\",\"ax\",\"ay\",\"az\"];\n",
    "ws = 128; fft_only = False;  remove_0freq = True\n",
    "# X_trn sample, feature, time\n",
    "X_trn,Y_trn, blist_trn = create_training_with_fft(batch_list=train_batches,features=features, window_size=ws, fft_only=fft_only, remove_0_freq=remove_0freq, get_batchlist=True)\n",
    "X_val,Y_val, blist_val = create_training_with_fft(batch_list=test_batches,features=features, window_size=ws, fft_only=fft_only, remove_0_freq=remove_0freq, get_batchlist=True)"
   ]
  },
  {
   "cell_type": "code",
   "execution_count": 10,
   "metadata": {},
   "outputs": [],
   "source": [
    "train_ds = tdatautils.TensorDataset(torch.from_numpy(X_trn).to(torch.float32),torch.from_numpy(Y_trn).to(torch.float32))\n",
    "valid_ds = tdatautils.TensorDataset(torch.from_numpy(X_val).to(torch.float32),torch.from_numpy(Y_val).to(torch.float32))"
   ]
  },
  {
   "cell_type": "code",
   "execution_count": 11,
   "metadata": {},
   "outputs": [],
   "source": [
    "batch_size = 16\n",
    "model_data = DataBunch.create(train_ds,valid_ds, valid_ds, bs=batch_size) # fastai library's Databunch"
   ]
  },
  {
   "cell_type": "markdown",
   "metadata": {},
   "source": [
    "### creating and validating the model"
   ]
  },
  {
   "cell_type": "code",
   "execution_count": 12,
   "metadata": {},
   "outputs": [],
   "source": [
    "zipnet = ZipNet(ks=5, feature_size=12)"
   ]
  },
  {
   "cell_type": "code",
   "execution_count": 13,
   "metadata": {},
   "outputs": [
    {
     "data": {
      "text/plain": [
       "tensor([0.4731, 0.4714, 0.4704, 0.4707, 0.4688, 0.4707, 0.4703, 0.4701, 0.4706,\n",
       "        0.4732, 0.4700, 0.4692, 0.4712, 0.4703, 0.4721, 0.4678],\n",
       "       grad_fn=<SigmoidBackward>)"
      ]
     },
     "execution_count": 13,
     "metadata": {},
     "output_type": "execute_result"
    }
   ],
   "source": [
    "zipnet(model_data.one_batch(DatasetType.Train)[0])"
   ]
  },
  {
   "cell_type": "code",
   "execution_count": 14,
   "metadata": {},
   "outputs": [],
   "source": [
    "ziplearner = Learner(model_data, zipnet, opt_func=torch.optim.Adam, loss_func=F.binary_cross_entropy)  # fastai's library Learner"
   ]
  },
  {
   "cell_type": "code",
   "execution_count": 15,
   "metadata": {},
   "outputs": [
    {
     "data": {
      "text/html": [],
      "text/plain": [
       "<IPython.core.display.HTML object>"
      ]
     },
     "metadata": {},
     "output_type": "display_data"
    },
    {
     "name": "stdout",
     "output_type": "stream",
     "text": [
      "LR Finder is complete, type {learner_name}.recorder.plot() to see the graph.\n"
     ]
    }
   ],
   "source": [
    "ziplearner.lr_find()"
   ]
  },
  {
   "cell_type": "code",
   "execution_count": 16,
   "metadata": {},
   "outputs": [
    {
     "data": {
      "image/png": "[encoded data removed]",
      "text/plain": [
       "<Figure size 432x288 with 1 Axes>"
      ]
     },
     "metadata": {},
     "output_type": "display_data"
    }
   ],
   "source": [
    "ziplearner.recorder.plot()"
   ]
  },
  {
   "cell_type": "code",
   "execution_count": 17,
   "metadata": {},
   "outputs": [
    {
     "data": {
      "text/html": [
       "Total time: 00:41 <p><table border=\"1\" class=\"dataframe\">\n",
       "  <thead>\n",
       "    <tr style=\"text-align: left;\">\n",
       "      <th>epoch</th>\n",
       "      <th>train_loss</th>\n",
       "      <th>valid_loss</th>\n",
       "      <th>time</th>\n",
       "    </tr>\n",
       "  </thead>\n",
       "  <tbody>\n",
       "    <tr>\n",
       "      <td>0</td>\n",
       "      <td>0.329684</td>\n",
       "      <td>0.176933</td>\n",
       "      <td>00:02</td>\n",
       "    </tr>\n",
       "    <tr>\n",
       "      <td>1</td>\n",
       "      <td>0.160903</td>\n",
       "      <td>0.310103</td>\n",
       "      <td>00:02</td>\n",
       "    </tr>\n",
       "    <tr>\n",
       "      <td>2</td>\n",
       "      <td>0.157186</td>\n",
       "      <td>0.643500</td>\n",
       "      <td>00:02</td>\n",
       "    </tr>\n",
       "    <tr>\n",
       "      <td>3</td>\n",
       "      <td>0.180088</td>\n",
       "      <td>0.261207</td>\n",
       "      <td>00:02</td>\n",
       "    </tr>\n",
       "    <tr>\n",
       "      <td>4</td>\n",
       "      <td>0.160246</td>\n",
       "      <td>0.323058</td>\n",
       "      <td>00:02</td>\n",
       "    </tr>\n",
       "    <tr>\n",
       "      <td>5</td>\n",
       "      <td>0.174042</td>\n",
       "      <td>0.197147</td>\n",
       "      <td>00:02</td>\n",
       "    </tr>\n",
       "    <tr>\n",
       "      <td>6</td>\n",
       "      <td>0.140392</td>\n",
       "      <td>0.241055</td>\n",
       "      <td>00:02</td>\n",
       "    </tr>\n",
       "    <tr>\n",
       "      <td>7</td>\n",
       "      <td>0.144156</td>\n",
       "      <td>0.434747</td>\n",
       "      <td>00:02</td>\n",
       "    </tr>\n",
       "    <tr>\n",
       "      <td>8</td>\n",
       "      <td>0.059566</td>\n",
       "      <td>0.514765</td>\n",
       "      <td>00:02</td>\n",
       "    </tr>\n",
       "    <tr>\n",
       "      <td>9</td>\n",
       "      <td>0.063251</td>\n",
       "      <td>0.599349</td>\n",
       "      <td>00:02</td>\n",
       "    </tr>\n",
       "    <tr>\n",
       "      <td>10</td>\n",
       "      <td>0.060455</td>\n",
       "      <td>0.426698</td>\n",
       "      <td>00:02</td>\n",
       "    </tr>\n",
       "    <tr>\n",
       "      <td>11</td>\n",
       "      <td>0.069376</td>\n",
       "      <td>0.901899</td>\n",
       "      <td>00:02</td>\n",
       "    </tr>\n",
       "    <tr>\n",
       "      <td>12</td>\n",
       "      <td>0.039307</td>\n",
       "      <td>0.516095</td>\n",
       "      <td>00:02</td>\n",
       "    </tr>\n",
       "    <tr>\n",
       "      <td>13</td>\n",
       "      <td>0.025832</td>\n",
       "      <td>0.402351</td>\n",
       "      <td>00:02</td>\n",
       "    </tr>\n",
       "    <tr>\n",
       "      <td>14</td>\n",
       "      <td>0.018806</td>\n",
       "      <td>0.559853</td>\n",
       "      <td>00:02</td>\n",
       "    </tr>\n",
       "    <tr>\n",
       "      <td>15</td>\n",
       "      <td>0.019545</td>\n",
       "      <td>0.658105</td>\n",
       "      <td>00:02</td>\n",
       "    </tr>\n",
       "    <tr>\n",
       "      <td>16</td>\n",
       "      <td>0.016762</td>\n",
       "      <td>0.553371</td>\n",
       "      <td>00:02</td>\n",
       "    </tr>\n",
       "    <tr>\n",
       "      <td>17</td>\n",
       "      <td>0.013261</td>\n",
       "      <td>0.571931</td>\n",
       "      <td>00:02</td>\n",
       "    </tr>\n",
       "    <tr>\n",
       "      <td>18</td>\n",
       "      <td>0.014579</td>\n",
       "      <td>0.591744</td>\n",
       "      <td>00:02</td>\n",
       "    </tr>\n",
       "    <tr>\n",
       "      <td>19</td>\n",
       "      <td>0.016220</td>\n",
       "      <td>0.593954</td>\n",
       "      <td>00:02</td>\n",
       "    </tr>\n",
       "  </tbody>\n",
       "</table>"
      ],
      "text/plain": [
       "<IPython.core.display.HTML object>"
      ]
     },
     "metadata": {},
     "output_type": "display_data"
    }
   ],
   "source": [
    "ziplearner.fit_one_cycle(20,1e-2,wd=1e-2)"
   ]
  },
  {
   "cell_type": "code",
   "execution_count": 18,
   "metadata": {},
   "outputs": [],
   "source": [
    "res_trn = ziplearner.get_preds(ds_type=DatasetType.Train)\n",
    "res_val = ziplearner.get_preds(ds_type=DatasetType.Valid)\n",
    "trn_pred = res_trn[0].numpy() > 0.5\n",
    "trn_target = res_trn[1].numpy()\n",
    "val_pred = res_val[0].numpy() > 0.5\n",
    "val_target = res_val[1].numpy()"
   ]
  },
  {
   "cell_type": "code",
   "execution_count": 19,
   "metadata": {},
   "outputs": [
    {
     "data": {
      "text/plain": [
       "Text(0.5, 1.0, 'Validation: Confusion Matrix, prec 0.97 - recall 0.75')"
      ]
     },
     "execution_count": 19,
     "metadata": {},
     "output_type": "execute_result"
    },
    {
     "data": {
      "image/png": "[encoded data removed]",
      "text/plain": [
       "<Figure size 1728x432 with 4 Axes>"
      ]
     },
     "metadata": {},
     "output_type": "display_data"
    }
   ],
   "source": [
    "fig,axes = plt.subplots(1,2,figsize=(24,6))\n",
    "plot_confusion_matrix(trn_target,trn_pred,label=\"open\",ax=axes[0]);axes[0].set_title(\"Training: \" + axes[0].get_title())\n",
    "plot_confusion_matrix(val_target,val_pred,label=\"open\",ax=axes[1]);axes[1].set_title(\"Validation: \" + axes[1].get_title())"
   ]
  },
  {
   "cell_type": "markdown",
   "metadata": {},
   "source": [
    "# LSTM"
   ]
  },
  {
   "cell_type": "code",
   "execution_count": 20,
   "metadata": {},
   "outputs": [],
   "source": [
    "class ReZipNet(nn.Module):\n",
    "    ## input channel wsx3\n",
    "    def __init__(self, num_layers = 10, hidden_dim = 5, fs = 128, dropout=0.2):\n",
    "        # fs: feature size\n",
    "        super(ReZipNet,self).__init__()\n",
    "        self.lstm = nn.LSTM(fs, hidden_dim, num_layers=num_layers,dropout=dropout)\n",
    "        self.hidden2prob = nn.Linear(hidden_dim, 1)\n",
    "        self.dropout = nn.Dropout(dropout)\n",
    "        \n",
    "\n",
    "    def forward(self,x):\n",
    "        lstm_out, _ = self.lstm(x.view(len(x), 1, -1))\n",
    "        lstm_out = self.dropout(lstm_out)\n",
    "        y = self.hidden2prob(lstm_out.view(len(x), -1))\n",
    "        y = torch.sigmoid(y).squeeze()\n",
    "        return y\n"
   ]
  },
  {
   "cell_type": "markdown",
   "metadata": {},
   "source": [
    "### Reformat our training data for input to LSTM"
   ]
  },
  {
   "cell_type": "code",
   "execution_count": 21,
   "metadata": {},
   "outputs": [],
   "source": [
    "# features = [\"mx\",\"my\",\"mz\",\"ax\",\"ay\",\"az\"];\n",
    "features = [\"mx\",\"my\",\"mz\"];\n",
    "ws = 128; fft_only = False;  remove_0freq = True; add_fft= True\n",
    "# X_trn sample, feature, time\n",
    "X_trn,Y_trn, blist_trn = create_training_with_fft(batch_list=train_batches,features=features, window_size=ws, add_fft = add_fft, fft_only=fft_only, remove_0_freq=remove_0freq, get_batchlist=True)\n",
    "X_val,Y_val, blist_val = create_training_with_fft(batch_list=test_batches,features=features, window_size=ws, add_fft = add_fft, fft_only=fft_only, remove_0_freq=remove_0freq, get_batchlist=True)\n",
    "\n",
    "\n",
    "X_trn = X_trn.reshape(X_trn.shape[0],1,-1)\n",
    "X_val = X_val.reshape(X_val.shape[0],1,-1)"
   ]
  },
  {
   "cell_type": "code",
   "execution_count": 22,
   "metadata": {},
   "outputs": [],
   "source": [
    "train_ds = tdatautils.TensorDataset(torch.from_numpy(X_trn).to(torch.float32),torch.from_numpy(Y_trn).to(torch.float32))\n",
    "valid_ds = tdatautils.TensorDataset(torch.from_numpy(X_val).to(torch.float32),torch.from_numpy(Y_val).to(torch.float32))"
   ]
  },
  {
   "cell_type": "code",
   "execution_count": 23,
   "metadata": {},
   "outputs": [
    {
     "data": {
      "text/plain": [
       "768"
      ]
     },
     "execution_count": 23,
     "metadata": {},
     "output_type": "execute_result"
    }
   ],
   "source": [
    "batch_size = 8\n",
    "model_data = DataBunch.create(train_ds,valid_ds, valid_ds, bs=batch_size) # fastai library's Databunch\n",
    "X_trn[0].shape[1]"
   ]
  },
  {
   "cell_type": "code",
   "execution_count": 24,
   "metadata": {},
   "outputs": [],
   "source": [
    "nfeat = X_trn[0].shape[1]\n",
    "zipnet = ReZipNet(num_layers=2, hidden_dim=100, fs = nfeat, dropout=0.3)"
   ]
  },
  {
   "cell_type": "code",
   "execution_count": 25,
   "metadata": {},
   "outputs": [],
   "source": [
    "ziplearner = Learner(model_data, zipnet, opt_func=torch.optim.Adam, loss_func=F.binary_cross_entropy)"
   ]
  },
  {
   "cell_type": "code",
   "execution_count": 26,
   "metadata": {},
   "outputs": [
    {
     "data": {
      "text/html": [],
      "text/plain": [
       "<IPython.core.display.HTML object>"
      ]
     },
     "metadata": {},
     "output_type": "display_data"
    },
    {
     "name": "stdout",
     "output_type": "stream",
     "text": [
      "LR Finder is complete, type {learner_name}.recorder.plot() to see the graph.\n"
     ]
    }
   ],
   "source": [
    "ziplearner.lr_find()"
   ]
  },
  {
   "cell_type": "code",
   "execution_count": 27,
   "metadata": {},
   "outputs": [
    {
     "data": {
      "image/png": "[encoded data removed]",
      "text/plain": [
       "<Figure size 432x288 with 1 Axes>"
      ]
     },
     "metadata": {},
     "output_type": "display_data"
    }
   ],
   "source": [
    "ziplearner.recorder.plot()\n"
   ]
  },
  {
   "cell_type": "code",
   "execution_count": 28,
   "metadata": {},
   "outputs": [
    {
     "data": {
      "text/html": [
       "Total time: 01:17 <p><table border=\"1\" class=\"dataframe\">\n",
       "  <thead>\n",
       "    <tr style=\"text-align: left;\">\n",
       "      <th>epoch</th>\n",
       "      <th>train_loss</th>\n",
       "      <th>valid_loss</th>\n",
       "      <th>time</th>\n",
       "    </tr>\n",
       "  </thead>\n",
       "  <tbody>\n",
       "    <tr>\n",
       "      <td>0</td>\n",
       "      <td>0.637760</td>\n",
       "      <td>0.757403</td>\n",
       "      <td>00:03</td>\n",
       "    </tr>\n",
       "    <tr>\n",
       "      <td>1</td>\n",
       "      <td>0.574138</td>\n",
       "      <td>0.842493</td>\n",
       "      <td>00:03</td>\n",
       "    </tr>\n",
       "    <tr>\n",
       "      <td>2</td>\n",
       "      <td>0.441536</td>\n",
       "      <td>1.280970</td>\n",
       "      <td>00:04</td>\n",
       "    </tr>\n",
       "    <tr>\n",
       "      <td>3</td>\n",
       "      <td>0.440292</td>\n",
       "      <td>1.053160</td>\n",
       "      <td>00:04</td>\n",
       "    </tr>\n",
       "    <tr>\n",
       "      <td>4</td>\n",
       "      <td>0.400682</td>\n",
       "      <td>1.003716</td>\n",
       "      <td>00:04</td>\n",
       "    </tr>\n",
       "    <tr>\n",
       "      <td>5</td>\n",
       "      <td>0.372130</td>\n",
       "      <td>0.888471</td>\n",
       "      <td>00:03</td>\n",
       "    </tr>\n",
       "    <tr>\n",
       "      <td>6</td>\n",
       "      <td>0.395833</td>\n",
       "      <td>0.791071</td>\n",
       "      <td>00:03</td>\n",
       "    </tr>\n",
       "    <tr>\n",
       "      <td>7</td>\n",
       "      <td>0.338797</td>\n",
       "      <td>1.014406</td>\n",
       "      <td>00:03</td>\n",
       "    </tr>\n",
       "    <tr>\n",
       "      <td>8</td>\n",
       "      <td>0.303763</td>\n",
       "      <td>0.909336</td>\n",
       "      <td>00:03</td>\n",
       "    </tr>\n",
       "    <tr>\n",
       "      <td>9</td>\n",
       "      <td>0.305610</td>\n",
       "      <td>1.051409</td>\n",
       "      <td>00:03</td>\n",
       "    </tr>\n",
       "    <tr>\n",
       "      <td>10</td>\n",
       "      <td>0.286240</td>\n",
       "      <td>0.818011</td>\n",
       "      <td>00:03</td>\n",
       "    </tr>\n",
       "    <tr>\n",
       "      <td>11</td>\n",
       "      <td>0.317192</td>\n",
       "      <td>0.943126</td>\n",
       "      <td>00:03</td>\n",
       "    </tr>\n",
       "    <tr>\n",
       "      <td>12</td>\n",
       "      <td>0.274094</td>\n",
       "      <td>0.799899</td>\n",
       "      <td>00:03</td>\n",
       "    </tr>\n",
       "    <tr>\n",
       "      <td>13</td>\n",
       "      <td>0.284353</td>\n",
       "      <td>0.875565</td>\n",
       "      <td>00:03</td>\n",
       "    </tr>\n",
       "    <tr>\n",
       "      <td>14</td>\n",
       "      <td>0.232109</td>\n",
       "      <td>0.907944</td>\n",
       "      <td>00:03</td>\n",
       "    </tr>\n",
       "    <tr>\n",
       "      <td>15</td>\n",
       "      <td>0.182512</td>\n",
       "      <td>1.007807</td>\n",
       "      <td>00:03</td>\n",
       "    </tr>\n",
       "    <tr>\n",
       "      <td>16</td>\n",
       "      <td>0.194225</td>\n",
       "      <td>0.985975</td>\n",
       "      <td>00:03</td>\n",
       "    </tr>\n",
       "    <tr>\n",
       "      <td>17</td>\n",
       "      <td>0.183857</td>\n",
       "      <td>1.054036</td>\n",
       "      <td>00:03</td>\n",
       "    </tr>\n",
       "    <tr>\n",
       "      <td>18</td>\n",
       "      <td>0.195439</td>\n",
       "      <td>1.049401</td>\n",
       "      <td>00:03</td>\n",
       "    </tr>\n",
       "    <tr>\n",
       "      <td>19</td>\n",
       "      <td>0.160999</td>\n",
       "      <td>1.051728</td>\n",
       "      <td>00:03</td>\n",
       "    </tr>\n",
       "  </tbody>\n",
       "</table>"
      ],
      "text/plain": [
       "<IPython.core.display.HTML object>"
      ]
     },
     "metadata": {},
     "output_type": "display_data"
    }
   ],
   "source": [
    "ziplearner.fit_one_cycle(20,1e-3)"
   ]
  },
  {
   "cell_type": "code",
   "execution_count": 29,
   "metadata": {},
   "outputs": [],
   "source": [
    "res_trn = ziplearner.get_preds(ds_type=DatasetType.Train)\n",
    "res_val = ziplearner.get_preds(ds_type=DatasetType.Valid)\n",
    "trn_pred = res_trn[0].numpy() > 0.5\n",
    "trn_target = res_trn[1].numpy()\n",
    "val_pred = res_val[0].numpy() > 0.5\n",
    "val_target = res_val[1].numpy()"
   ]
  },
  {
   "cell_type": "code",
   "execution_count": 30,
   "metadata": {},
   "outputs": [
    {
     "data": {
      "text/plain": [
       "Text(0.5, 1.0, 'Validation: Confusion Matrix, prec 0.70 - recall 0.77')"
      ]
     },
     "execution_count": 30,
     "metadata": {},
     "output_type": "execute_result"
    },
    {
     "data": {
      "image/png": "[encoded data removed]",
      "text/plain": [
       "<Figure size 1728x432 with 4 Axes>"
      ]
     },
     "metadata": {},
     "output_type": "display_data"
    }
   ],
   "source": [
    "fig,axes = plt.subplots(1,2,figsize=(24,6))\n",
    "plot_confusion_matrix(trn_target,trn_pred,label=\"open\",ax=axes[0]);axes[0].set_title(\"Training: \" + axes[0].get_title())\n",
    "plot_confusion_matrix(val_target,val_pred,label=\"open\",ax=axes[1]);axes[1].set_title(\"Validation: \" + axes[1].get_title())"
   ]
  },
  {
   "cell_type": "code",
   "execution_count": 31,
   "metadata": {},
   "outputs": [],
   "source": []
  }
 ],
 "metadata": {
  "kernelspec": {
   "display_name": "Python 3",
   "language": "python",
   "name": "python3"
  },
  "language_info": {
   "codemirror_mode": {
    "name": "ipython",
    "version": 3
   },
   "file_extension": ".py",
   "mimetype": "text/x-python",
   "name": "python",
   "nbconvert_exporter": "python",
   "pygments_lexer": "ipython3",
   "version": "3.6.6"
  }
 },
 "nbformat": 4,
 "nbformat_minor": 1
}
